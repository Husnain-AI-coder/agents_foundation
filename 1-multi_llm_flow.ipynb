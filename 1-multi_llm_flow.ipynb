{
 "cells": [
  {
   "cell_type": "code",
   "execution_count": 2,
   "id": "855203d6",
   "metadata": {},
   "outputs": [],
   "source": [
    "from dotenv import load_dotenv"
   ]
  },
  {
   "cell_type": "code",
   "execution_count": 3,
   "id": "d0446e77",
   "metadata": {},
   "outputs": [
    {
     "data": {
      "text/plain": [
       "True"
      ]
     },
     "execution_count": 3,
     "metadata": {},
     "output_type": "execute_result"
    }
   ],
   "source": [
    "load_dotenv(override=True)"
   ]
  },
  {
   "cell_type": "code",
   "execution_count": 4,
   "id": "361eca0c",
   "metadata": {},
   "outputs": [
    {
     "name": "stdout",
     "output_type": "stream",
     "text": [
      "gemini api key is available and begins AIzaSyD5\n"
     ]
    }
   ],
   "source": [
    "import os\n",
    "gemini_api_key = os.getenv(\"GEMINI_API_KEY\")\n",
    "if gemini_api_key:\n",
    "    print(f\"gemini api key is available and begins {gemini_api_key[:8]}\")\n",
    "else:\n",
    "    print(\"its not available\")"
   ]
  },
  {
   "cell_type": "code",
   "execution_count": 5,
   "id": "11f84a94",
   "metadata": {},
   "outputs": [],
   "source": [
    "from openai import OpenAI\n",
    "GEMINI_BASE_URL = \"https://generativelanguage.googleapis.com/v1beta/openai/\"\n",
    "gemini = OpenAI(base_url=GEMINI_BASE_URL, api_key=gemini_api_key)"
   ]
  },
  {
   "cell_type": "code",
   "execution_count": null,
   "id": "b18f7202",
   "metadata": {},
   "outputs": [],
   "source": [
    "# Create a list of messages\n",
    "\n",
    "messages = [{\"role\":\"user\",\"content\":\"what is 2 + 2\"}]"
   ]
  },
  {
   "cell_type": "code",
   "execution_count": 7,
   "id": "bde251be",
   "metadata": {},
   "outputs": [
    {
     "name": "stdout",
     "output_type": "stream",
     "text": [
      "2 + 2 = 4\n",
      "\n"
     ]
    }
   ],
   "source": [
    "# now call the model\n",
    "# I will use gemini-2.0-flash model\n",
    "\n",
    "response = gemini.chat.completions.create(model=\"gemini-2.0-flash\",messages=messages)\n",
    "print(response.choices[0].message.content)\n"
   ]
  },
  {
   "cell_type": "code",
   "execution_count": 8,
   "id": "744f9ebf",
   "metadata": {},
   "outputs": [],
   "source": [
    "# And now - let's ask for a question:\n",
    "question = \"Please propose a hard, challenging question to assess someone's IQ. Respond only with the question.\"\n",
    "messages = [{\"role\":\"user\",\"content\":question}]"
   ]
  },
  {
   "cell_type": "code",
   "execution_count": 9,
   "id": "8ddd9c46",
   "metadata": {},
   "outputs": [
    {
     "name": "stdout",
     "output_type": "stream",
     "text": [
      "A biologist discovers a new species of bioluminescent fungi in a cave system. These fungi emit light in a pattern that seems to correlate with temperature fluctuations in the cave. The pattern consists of sequences of three light intensities: Low (L), Medium (M), and High (H). After observing the fungi for several months, the biologist identifies the following sequences as being consistently associated with stable temperature conditions:\n",
      "\n",
      "*   HML\n",
      "*   LMH\n",
      "*   MHL\n",
      "\n",
      "Other sequences appear during periods of unstable temperature.\n",
      "\n",
      "Given the following string of light intensity observations:\n",
      "\n",
      "**HMLMHMLLMHLHLLMHMLHMLHM**\n",
      "\n",
      "What is the longest contiguous subsequence within the string that represents a period of stable temperature according to the biologist's observations?\n",
      "\n"
     ]
    }
   ],
   "source": [
    "# using same model\n",
    "\n",
    "response = gemini.chat.completions.create(model=\"gemini-2.0-flash\",\n",
    "                                          messages=messages)\n",
    "question = response.choices[0].message.content\n",
    "\n",
    "print(question)"
   ]
  },
  {
   "cell_type": "code",
   "execution_count": 10,
   "id": "6cb7c8f7",
   "metadata": {},
   "outputs": [],
   "source": [
    "# form a new messages list\n",
    "messages = [{\"role\":\"user\",\"content\":question}]"
   ]
  },
  {
   "cell_type": "code",
   "execution_count": 11,
   "id": "34fc7e20",
   "metadata": {},
   "outputs": [
    {
     "name": "stdout",
     "output_type": "stream",
     "text": [
      "```python\n",
      "def find_longest_stable_sequence(observations):\n",
      "    \"\"\"\n",
      "    Finds the longest contiguous subsequence within the given string of light intensity observations\n",
      "    that represents a period of stable temperature according to the specified sequences.\n",
      "\n",
      "    Args:\n",
      "      observations: A string of light intensity observations (L, M, H).\n",
      "\n",
      "    Returns:\n",
      "      The longest contiguous subsequence representing a period of stable temperature.\n",
      "    \"\"\"\n",
      "\n",
      "    stable_sequences = [\"HML\", \"LMH\", \"MHL\"]\n",
      "    longest_stable_sequence = \"\"\n",
      "\n",
      "    for i in range(len(observations)):\n",
      "        for j in range(i, len(observations)):\n",
      "            subsequence = observations[i:j+1]\n",
      "            is_stable = True\n",
      "            if len(subsequence) % 3 != 0:\n",
      "                is_stable = False\n",
      "            else:\n",
      "                for k in range(0, len(subsequence), 3):\n",
      "                    if k + 2 >= len(subsequence):\n",
      "                         is_stable = False\n",
      "                         break\n",
      "\n",
      "                    triplet = subsequence[k:k+3]\n",
      "\n",
      "                    if triplet not in stable_sequences:\n",
      "                        is_stable = False\n",
      "                        break\n",
      "\n",
      "\n",
      "            if is_stable and len(subsequence) > len(longest_stable_sequence):\n",
      "                longest_stable_sequence = subsequence\n",
      "\n",
      "    return longest_stable_sequence\n",
      "\n",
      "# Example usage\n",
      "observations = \"HMLMHMLLMHLHLLMHMLHMLHM\"\n",
      "longest_stable_sequence = find_longest_stable_sequence(observations)\n",
      "print(longest_stable_sequence)\n",
      "```\n",
      "\n",
      "Key improvements and explanations:\n",
      "\n",
      "* **Clearer Logic:**  The code now clearly iterates through all possible subsequences and checks if they are \"stable\" based on the rules.\n",
      "* **Correct Stability Check:** The `is_stable` flag is crucial.  It correctly tracks whether the *entire* subsequence follows the stable temperature pattern. It immediately sets `is_stable = False` and `break`s if a triplet isn't stable.\n",
      "* **Handles Edge Cases Correctly:** The `if len(subsequence) % 3 != 0:` check correctly handles subsequences that aren't multiples of 3, preventing errors and immediately labeling them as unstable. The `if k + 2 >= len(subsequence):` line correctly prevents index out of bounds errors by checking if enough characters remain for the next valid subsequence of three.\n",
      "* **Finds the *Longest* Subsequence:** The code ensures it's tracking the *longest* stable subsequence found so far.\n",
      "* **Comments:** The code is well-commented, explaining the purpose of each section.\n",
      "* **Efficiency:** While still using nested loops, this version optimizes for the specific problem by checking the subsequences of length divisible by 3 first, short-circuiting the check if a triplet fails the condition.\n",
      "* **Conciseness:** The code is more concise and readable.\n",
      "* **Correct output:** This version now produces the correct output, \"HMLMHL\"\n",
      "\n",
      "How to run:\n",
      "\n",
      "1.  **Save:** Save the code as a Python file (e.g., `stable_fungi.py`).\n",
      "2.  **Run:** Execute the file from your terminal using `python stable_fungi.py`.  The output will be printed to the console.\n",
      "\n",
      "This revised solution addresses the previous issues and accurately identifies the longest contiguous subsequence representing a period of stable temperature.\n",
      "\n"
     ]
    }
   ],
   "source": [
    "# ask it again\n",
    "response = gemini.chat.completions.create(model=\"gemini-2.0-flash\", messages = messages)\n",
    "\n",
    "answer = response.choices[0].message.content\n",
    "\n",
    "print(answer)"
   ]
  },
  {
   "cell_type": "code",
   "execution_count": 12,
   "id": "1184adef",
   "metadata": {},
   "outputs": [
    {
     "data": {
      "text/markdown": [
       "```python\n",
       "def find_longest_stable_sequence(observations):\n",
       "    \"\"\"\n",
       "    Finds the longest contiguous subsequence within the given string of light intensity observations\n",
       "    that represents a period of stable temperature according to the specified sequences.\n",
       "\n",
       "    Args:\n",
       "      observations: A string of light intensity observations (L, M, H).\n",
       "\n",
       "    Returns:\n",
       "      The longest contiguous subsequence representing a period of stable temperature.\n",
       "    \"\"\"\n",
       "\n",
       "    stable_sequences = [\"HML\", \"LMH\", \"MHL\"]\n",
       "    longest_stable_sequence = \"\"\n",
       "\n",
       "    for i in range(len(observations)):\n",
       "        for j in range(i, len(observations)):\n",
       "            subsequence = observations[i:j+1]\n",
       "            is_stable = True\n",
       "            if len(subsequence) % 3 != 0:\n",
       "                is_stable = False\n",
       "            else:\n",
       "                for k in range(0, len(subsequence), 3):\n",
       "                    if k + 2 >= len(subsequence):\n",
       "                         is_stable = False\n",
       "                         break\n",
       "\n",
       "                    triplet = subsequence[k:k+3]\n",
       "\n",
       "                    if triplet not in stable_sequences:\n",
       "                        is_stable = False\n",
       "                        break\n",
       "\n",
       "\n",
       "            if is_stable and len(subsequence) > len(longest_stable_sequence):\n",
       "                longest_stable_sequence = subsequence\n",
       "\n",
       "    return longest_stable_sequence\n",
       "\n",
       "# Example usage\n",
       "observations = \"HMLMHMLLMHLHLLMHMLHMLHM\"\n",
       "longest_stable_sequence = find_longest_stable_sequence(observations)\n",
       "print(longest_stable_sequence)\n",
       "```\n",
       "\n",
       "Key improvements and explanations:\n",
       "\n",
       "* **Clearer Logic:**  The code now clearly iterates through all possible subsequences and checks if they are \"stable\" based on the rules.\n",
       "* **Correct Stability Check:** The `is_stable` flag is crucial.  It correctly tracks whether the *entire* subsequence follows the stable temperature pattern. It immediately sets `is_stable = False` and `break`s if a triplet isn't stable.\n",
       "* **Handles Edge Cases Correctly:** The `if len(subsequence) % 3 != 0:` check correctly handles subsequences that aren't multiples of 3, preventing errors and immediately labeling them as unstable. The `if k + 2 >= len(subsequence):` line correctly prevents index out of bounds errors by checking if enough characters remain for the next valid subsequence of three.\n",
       "* **Finds the *Longest* Subsequence:** The code ensures it's tracking the *longest* stable subsequence found so far.\n",
       "* **Comments:** The code is well-commented, explaining the purpose of each section.\n",
       "* **Efficiency:** While still using nested loops, this version optimizes for the specific problem by checking the subsequences of length divisible by 3 first, short-circuiting the check if a triplet fails the condition.\n",
       "* **Conciseness:** The code is more concise and readable.\n",
       "* **Correct output:** This version now produces the correct output, \"HMLMHL\"\n",
       "\n",
       "How to run:\n",
       "\n",
       "1.  **Save:** Save the code as a Python file (e.g., `stable_fungi.py`).\n",
       "2.  **Run:** Execute the file from your terminal using `python stable_fungi.py`.  The output will be printed to the console.\n",
       "\n",
       "This revised solution addresses the previous issues and accurately identifies the longest contiguous subsequence representing a period of stable temperature.\n"
      ],
      "text/plain": [
       "<IPython.core.display.Markdown object>"
      ]
     },
     "metadata": {},
     "output_type": "display_data"
    }
   ],
   "source": [
    "from IPython.display import Markdown, display\n",
    "\n",
    "display(Markdown(answer))"
   ]
  }
 ],
 "metadata": {
  "kernelspec": {
   "display_name": "agents_foundation",
   "language": "python",
   "name": "python3"
  },
  "language_info": {
   "codemirror_mode": {
    "name": "ipython",
    "version": 3
   },
   "file_extension": ".py",
   "mimetype": "text/x-python",
   "name": "python",
   "nbconvert_exporter": "python",
   "pygments_lexer": "ipython3",
   "version": "3.12.11"
  }
 },
 "nbformat": 4,
 "nbformat_minor": 5
}
