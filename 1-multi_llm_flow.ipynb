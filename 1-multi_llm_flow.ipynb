{
 "cells": [
  {
   "cell_type": "code",
   "execution_count": null,
   "id": "855203d6",
   "metadata": {},
   "outputs": [],
   "source": [
    "from dotenv import load_dotenv"
   ]
  },
  {
   "cell_type": "code",
   "execution_count": null,
   "id": "d0446e77",
   "metadata": {},
   "outputs": [],
   "source": [
    "load_dotenv(override=True)"
   ]
  },
  {
   "cell_type": "code",
   "execution_count": null,
   "id": "361eca0c",
   "metadata": {},
   "outputs": [],
   "source": [
    "import os\n",
    "gemini_api_key = os.getenv(\"GEMINI_API_KEY\")\n",
    "if gemini_api_key:\n",
    "    print(f\"gemini api key is available and begins {gemini_api_key[:8]}\")\n",
    "else:\n",
    "    print(\"its not available\")"
   ]
  },
  {
   "cell_type": "code",
   "execution_count": null,
   "id": "11f84a94",
   "metadata": {},
   "outputs": [],
   "source": [
    "from openai import OpenAI\n",
    "GEMINI_BASE_URL = \"https://generativelanguage.googleapis.com/v1beta/openai/\"\n",
    "gemini = OpenAI(base_url=GEMINI_BASE_URL, api_key=gemini_api_key)"
   ]
  },
  {
   "cell_type": "code",
   "execution_count": null,
   "id": "b18f7202",
   "metadata": {},
   "outputs": [],
   "source": [
    "# Create a list of messages\n",
    "\n",
    "messages = [{\"role\":\"user\",\"content\":\"what is 2 + 2\"}]"
   ]
  },
  {
   "cell_type": "code",
   "execution_count": null,
   "id": "bde251be",
   "metadata": {},
   "outputs": [],
   "source": [
    "# now call the model\n",
    "# I will use gemini-2.0-flash model\n",
    "\n",
    "response = gemini.chat.completions.create(model=\"gemini-2.0-flash\",messages=messages)\n",
    "print(response.choices[0].message.content)\n"
   ]
  },
  {
   "cell_type": "code",
   "execution_count": null,
   "id": "744f9ebf",
   "metadata": {},
   "outputs": [],
   "source": [
    "# And now - let's ask for a question:\n",
    "question = \"Please propose a hard, challenging question to assess someone's IQ. Respond only with the question.\"\n",
    "messages = [{\"role\":\"user\",\"content\":question}]"
   ]
  },
  {
   "cell_type": "code",
   "execution_count": null,
   "id": "8ddd9c46",
   "metadata": {},
   "outputs": [],
   "source": [
    "# using same model\n",
    "\n",
    "response = gemini.chat.completions.create(model=\"gemini-2.0-flash\",\n",
    "                                          messages=messages)\n",
    "question = response.choices[0].message.content\n",
    "\n",
    "print(question)"
   ]
  },
  {
   "cell_type": "code",
   "execution_count": null,
   "id": "6cb7c8f7",
   "metadata": {},
   "outputs": [],
   "source": [
    "# form a new messages list\n",
    "messages = [{\"role\":\"user\",\"content\":question}]"
   ]
  },
  {
   "cell_type": "code",
   "execution_count": null,
   "id": "34fc7e20",
   "metadata": {},
   "outputs": [],
   "source": [
    "# ask it again\n",
    "response = gemini.chat.completions.create(model=\"gemini-2.0-flash\", messages = messages)\n",
    "\n",
    "answer = response.choices[0].message.content\n",
    "\n",
    "print(answer)"
   ]
  },
  {
   "cell_type": "code",
   "execution_count": null,
   "id": "1184adef",
   "metadata": {},
   "outputs": [],
   "source": [
    "from IPython.display import Markdown, display\n",
    "\n",
    "display(Markdown(answer))"
   ]
  }
 ],
 "metadata": {
  "kernelspec": {
   "display_name": "agents_foundation",
   "language": "python",
   "name": "python3"
  },
  "language_info": {
   "codemirror_mode": {
    "name": "ipython",
    "version": 3
   },
   "file_extension": ".py",
   "mimetype": "text/x-python",
   "name": "python",
   "nbconvert_exporter": "python",
   "pygments_lexer": "ipython3",
   "version": "3.12.11"
  }
 },
 "nbformat": 4,
 "nbformat_minor": 5
}
