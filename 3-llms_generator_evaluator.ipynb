{
 "cells": [
  {
   "cell_type": "markdown",
   "id": "ec675911",
   "metadata": {},
   "source": [
    "## Chat app with LinkedIn Profile or Resume Information - openai model as Generator and Gemini model as evaluator\n"
   ]
  },
  {
   "cell_type": "code",
   "execution_count": null,
   "id": "9d2008d0",
   "metadata": {},
   "outputs": [],
   "source": [
    "from dotenv import load_dotenv\n",
    "from openai import OpenAI\n",
    "from pypdf import PdfReader\n",
    "import gradio as gr"
   ]
  },
  {
   "cell_type": "code",
   "execution_count": null,
   "id": "6fdd3344",
   "metadata": {},
   "outputs": [],
   "source": [
    "load_dotenv(override=True)\n",
    "openai =  OpenAI()"
   ]
  },
  {
   "cell_type": "code",
   "execution_count": null,
   "id": "aba13d8a",
   "metadata": {},
   "outputs": [],
   "source": [
    "reader = PdfReader(\"me/mylinkedin.pdf\")\n",
    "# how many pages?\n",
    "print(\"Pages:\", len(reader.pages))\n",
    "# Extract text from all pages\n",
    "linkedin = \"\"\n",
    "for page in reader.pages:\n",
    "    text = page.extract_text()\n",
    "    if text:\n",
    "        linkedin += text"
   ]
  },
  {
   "cell_type": "code",
   "execution_count": null,
   "id": "73223c22",
   "metadata": {},
   "outputs": [],
   "source": [
    "print(linkedin)"
   ]
  },
  {
   "cell_type": "code",
   "execution_count": null,
   "id": "692bdbef",
   "metadata": {},
   "outputs": [],
   "source": [
    "with open(\"me/summary.txt\",\"r\",encoding=\"utf-8\") as f:\n",
    "    summary = f.read()"
   ]
  },
  {
   "cell_type": "code",
   "execution_count": null,
   "id": "aba49253",
   "metadata": {},
   "outputs": [],
   "source": [
    "print(summary)"
   ]
  },
  {
   "cell_type": "code",
   "execution_count": null,
   "id": "30d93466",
   "metadata": {},
   "outputs": [],
   "source": [
    "name = 'Husnain Razzaq Othi'"
   ]
  },
  {
   "cell_type": "code",
   "execution_count": null,
   "id": "e26afd9f",
   "metadata": {},
   "outputs": [],
   "source": [
    "system_prompt = f\"You are acting as {name}. You are answering questions on {name}'s website, \\\n",
    "particularly questions related to {name}'s career, background, skills and experience. \\\n",
    "Your responsibility is to represent {name} for interactions on the website as faithfully as possible. \\\n",
    "You are given a summary of {name}'s background and LinkedIn profile which you can use to answer questions. \\\n",
    "Be professional and engaging, as if talking to a potential client or future employer who came across the website. \\\n",
    "If you don't know the answer, say so.\"\n",
    "\n",
    "system_prompt += f\"\\n\\n## Summary:\\n{summary}\\n\\n## LinkedIn Profile:\\n{linkedin}\\n\\n\"\n",
    "system_prompt += f\"With this context, please chat with the user, always staying in character as {name}.\""
   ]
  },
  {
   "cell_type": "code",
   "execution_count": null,
   "id": "c20e7de4",
   "metadata": {},
   "outputs": [],
   "source": [
    "system_prompt"
   ]
  },
  {
   "cell_type": "code",
   "execution_count": null,
   "id": "de28afed",
   "metadata": {},
   "outputs": [],
   "source": [
    "def chat(message,history):\n",
    "    # add system prompt\n",
    "    messages = [{\"role\":\"system\",\"content\":system_prompt}] + history + [{\"role\":\"user\",\"content\":message}]\n",
    "\n",
    "    # get model response\n",
    "\n",
    "    response = openai.chat.completions.create(\n",
    "        model = \"gpt-4o-mini\",\n",
    "        messages = messages\n",
    "    )\n",
    "    reply = response.choices[0].message.content\n",
    "\n",
    "    return reply"
   ]
  },
  {
   "cell_type": "code",
   "execution_count": null,
   "id": "58bbc115",
   "metadata": {},
   "outputs": [],
   "source": [
    "gr.ChatInterface(chat,type='messages').launch()"
   ]
  },
  {
   "cell_type": "code",
   "execution_count": null,
   "id": "e6687886",
   "metadata": {},
   "outputs": [],
   "source": [
    "from pydantic import BaseModel\n",
    "\n",
    "class EvalResult(BaseModel):\n",
    "    is_acceptable: bool\n",
    "    feedback: str\n"
   ]
  },
  {
   "cell_type": "code",
   "execution_count": null,
   "id": "63853200",
   "metadata": {},
   "outputs": [],
   "source": [
    "evaluator_system_prompt = f\"You are an evaluator that decides whether a response to a question is acceptable. \\\n",
    "You are provided with a conversation between a User and an Agent. Your task is to decide whether the Agent's latest response is acceptable quality. \\\n",
    "The Agent is playing the role of {name} and is representing {name} on their website. \\\n",
    "The Agent has been instructed to be professional and engaging, as if talking to a potential client or future employer who came across the website. \\\n",
    "The Agent has been provided with context on {name} in the form of their summary and LinkedIn details. Here's the information:\"\n",
    "\n",
    "evaluator_system_prompt += f\"\\n\\n## Summary:\\n{summary}\\n\\n## LinkedIn Profile:\\n{linkedin}\\n\\n\"\n",
    "evaluator_system_prompt += f\"With this context, please evaluate the latest response, replying with whether the response is acceptable and your feedback.\""
   ]
  },
  {
   "cell_type": "code",
   "execution_count": null,
   "id": "3dc88f54",
   "metadata": {},
   "outputs": [],
   "source": [
    "def evaluator_user_prompt(reply, message, history):\n",
    "    user_prompt = f\"Here's the conversation between the User and the Agent: \\n\\n{history}\\n\\n\"\n",
    "    user_prompt += f\"Here's the latest message from the User: \\n\\n{message}\\n\\n\"\n",
    "    user_prompt += f\"Here's the latest response from the Agent: \\n\\n{reply}\\n\\n\"\n",
    "    user_prompt += \"Please evaluate the response, replying with whether it is acceptable and your feedback.\"\n",
    "    return user_prompt"
   ]
  },
  {
   "cell_type": "code",
   "execution_count": null,
   "id": "eb859336",
   "metadata": {},
   "outputs": [],
   "source": [
    "import os\n",
    "gemini_api_key = os.getenv(\"GEMINI_API_KEY\")\n",
    "gemini = OpenAI(api_key=gemini_api_key, base_url=\"https://generativelanguage.googleapis.com/v1beta/openai/\")\n"
   ]
  },
  {
   "cell_type": "code",
   "execution_count": null,
   "id": "48b0dcff",
   "metadata": {},
   "outputs": [],
   "source": [
    "def evaluate(reply,message,history)-> EvalResult:\n",
    "    messages = [{\"role\":\"system\",\"content\":evaluator_system_prompt}] + [{\"role\":\"user\",\"content\":evaluator_user_prompt(reply, message, history)}]\n",
    "    response = gemini.beta.chat.completions.parse(model = \"gemini-2.0-flash\",messages = messages, response_format=EvalResult)\n",
    "    return response.choices[0].message.parsed\n"
   ]
  },
  {
   "cell_type": "code",
   "execution_count": null,
   "id": "e38e8a69",
   "metadata": {},
   "outputs": [],
   "source": [
    "def rerun(reply,message,history,feedback):\n",
    "    updated_system_prompt = system_prompt + \"\\n\\n## Previous answer rejected\\nYou just tried to reply, but the quality control rejected your reply\\n\"\n",
    "    updated_system_prompt += f\"## Your attempted answer:\\n{reply}\\n\\n\"\n",
    "    updated_system_prompt += f\"## Reason for rejection:\\n{feedback}\\n\\n\"\n",
    "    messages = [{\"role\":\"system\",\"content\":updated_system_prompt}] + [{\"role\":\"user\",\"content\":message}]\n",
    "    response = openai.chat.completions.create(model=\"gpt-4o-mini\",messages=messages)\n",
    "    return response"
   ]
  },
  {
   "cell_type": "code",
   "execution_count": null,
   "id": "f0f45045",
   "metadata": {},
   "outputs": [],
   "source": [
    "def chat(message,history):\n",
    "    messagees = [{\"role\":\"system\",\"content\":system_prompt}] + history + [{\"role\":\"user\",\"content\":message}]\n",
    "    response = openai.chat.completions.create(model=\"gpt-4o-mini\",messages=messagees)\n",
    "    reply = response.choices[0].message.content\n",
    "\n",
    "    evaluation = evaluate(reply,message,history)\n",
    "\n",
    "    if evaluation.is_acceptable:\n",
    "        print(\"evaluation passed\")\n",
    "    else:\n",
    "        print(\"Failed evaluation, retrying\")\n",
    "        reply = rerun(reply,message,history,evaluation.feedback)\n",
    "    return reply"
   ]
  },
  {
   "cell_type": "code",
   "execution_count": null,
   "id": "e918092b",
   "metadata": {},
   "outputs": [],
   "source": [
    "gr.ChatInterface(chat, type='messages').launch()"
   ]
  }
 ],
 "metadata": {
  "kernelspec": {
   "display_name": "agents_foundation",
   "language": "python",
   "name": "python3"
  },
  "language_info": {
   "codemirror_mode": {
    "name": "ipython",
    "version": 3
   },
   "file_extension": ".py",
   "mimetype": "text/x-python",
   "name": "python",
   "nbconvert_exporter": "python",
   "pygments_lexer": "ipython3",
   "version": "3.12.11"
  }
 },
 "nbformat": 4,
 "nbformat_minor": 5
}
